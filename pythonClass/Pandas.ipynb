{
 "cells": [
  {
   "cell_type": "code",
   "execution_count": 2,
   "id": "f14dd419",
   "metadata": {},
   "outputs": [],
   "source": [
    "import pandas as pd\n",
    "import matplotlib.pyplot as plt\n",
    "import numpy as np\n",
    "data = pd.read_csv(\"Hosein.csv\")"
   ]
  },
  {
   "cell_type": "code",
   "execution_count": 6,
   "id": "03cd74a3",
   "metadata": {},
   "outputs": [
    {
     "data": {
      "text/html": [
       "<div>\n",
       "<style scoped>\n",
       "    .dataframe tbody tr th:only-of-type {\n",
       "        vertical-align: middle;\n",
       "    }\n",
       "\n",
       "    .dataframe tbody tr th {\n",
       "        vertical-align: top;\n",
       "    }\n",
       "\n",
       "    .dataframe thead th {\n",
       "        text-align: right;\n",
       "    }\n",
       "</style>\n",
       "<table border=\"1\" class=\"dataframe\">\n",
       "  <thead>\n",
       "    <tr style=\"text-align: right;\">\n",
       "      <th></th>\n",
       "      <th>age</th>\n",
       "      <th>job</th>\n",
       "      <th>marital</th>\n",
       "      <th>education</th>\n",
       "      <th>default</th>\n",
       "      <th>housing</th>\n",
       "      <th>loan</th>\n",
       "      <th>contact</th>\n",
       "      <th>month</th>\n",
       "      <th>day_of_week</th>\n",
       "      <th>...</th>\n",
       "      <th>campaign</th>\n",
       "      <th>pdays</th>\n",
       "      <th>previous</th>\n",
       "      <th>poutcome</th>\n",
       "      <th>emp.var.rate</th>\n",
       "      <th>cons.price.idx</th>\n",
       "      <th>cons.conf.idx</th>\n",
       "      <th>euribor3m</th>\n",
       "      <th>nr.employed</th>\n",
       "      <th>y</th>\n",
       "    </tr>\n",
       "  </thead>\n",
       "  <tbody>\n",
       "    <tr>\n",
       "      <th>0</th>\n",
       "      <td>56</td>\n",
       "      <td>housemaid</td>\n",
       "      <td>married</td>\n",
       "      <td>basic.4y</td>\n",
       "      <td>no</td>\n",
       "      <td>no</td>\n",
       "      <td>no</td>\n",
       "      <td>telephone</td>\n",
       "      <td>may</td>\n",
       "      <td>mon</td>\n",
       "      <td>...</td>\n",
       "      <td>1</td>\n",
       "      <td>999</td>\n",
       "      <td>0</td>\n",
       "      <td>nonexistent</td>\n",
       "      <td>1.1</td>\n",
       "      <td>93.994</td>\n",
       "      <td>-36.4</td>\n",
       "      <td>4.857</td>\n",
       "      <td>5191.0</td>\n",
       "      <td>no</td>\n",
       "    </tr>\n",
       "    <tr>\n",
       "      <th>1</th>\n",
       "      <td>57</td>\n",
       "      <td>services</td>\n",
       "      <td>married</td>\n",
       "      <td>high.school</td>\n",
       "      <td>unknown</td>\n",
       "      <td>no</td>\n",
       "      <td>no</td>\n",
       "      <td>telephone</td>\n",
       "      <td>may</td>\n",
       "      <td>mon</td>\n",
       "      <td>...</td>\n",
       "      <td>1</td>\n",
       "      <td>999</td>\n",
       "      <td>0</td>\n",
       "      <td>nonexistent</td>\n",
       "      <td>1.1</td>\n",
       "      <td>93.994</td>\n",
       "      <td>-36.4</td>\n",
       "      <td>4.857</td>\n",
       "      <td>5191.0</td>\n",
       "      <td>no</td>\n",
       "    </tr>\n",
       "    <tr>\n",
       "      <th>2</th>\n",
       "      <td>37</td>\n",
       "      <td>services</td>\n",
       "      <td>married</td>\n",
       "      <td>high.school</td>\n",
       "      <td>no</td>\n",
       "      <td>yes</td>\n",
       "      <td>no</td>\n",
       "      <td>telephone</td>\n",
       "      <td>may</td>\n",
       "      <td>mon</td>\n",
       "      <td>...</td>\n",
       "      <td>1</td>\n",
       "      <td>999</td>\n",
       "      <td>0</td>\n",
       "      <td>nonexistent</td>\n",
       "      <td>1.1</td>\n",
       "      <td>93.994</td>\n",
       "      <td>-36.4</td>\n",
       "      <td>4.857</td>\n",
       "      <td>5191.0</td>\n",
       "      <td>no</td>\n",
       "    </tr>\n",
       "    <tr>\n",
       "      <th>3</th>\n",
       "      <td>40</td>\n",
       "      <td>admin.</td>\n",
       "      <td>married</td>\n",
       "      <td>basic.6y</td>\n",
       "      <td>no</td>\n",
       "      <td>no</td>\n",
       "      <td>no</td>\n",
       "      <td>telephone</td>\n",
       "      <td>may</td>\n",
       "      <td>mon</td>\n",
       "      <td>...</td>\n",
       "      <td>1</td>\n",
       "      <td>999</td>\n",
       "      <td>0</td>\n",
       "      <td>nonexistent</td>\n",
       "      <td>1.1</td>\n",
       "      <td>93.994</td>\n",
       "      <td>-36.4</td>\n",
       "      <td>4.857</td>\n",
       "      <td>5191.0</td>\n",
       "      <td>no</td>\n",
       "    </tr>\n",
       "    <tr>\n",
       "      <th>4</th>\n",
       "      <td>56</td>\n",
       "      <td>services</td>\n",
       "      <td>married</td>\n",
       "      <td>high.school</td>\n",
       "      <td>no</td>\n",
       "      <td>no</td>\n",
       "      <td>yes</td>\n",
       "      <td>telephone</td>\n",
       "      <td>may</td>\n",
       "      <td>mon</td>\n",
       "      <td>...</td>\n",
       "      <td>1</td>\n",
       "      <td>999</td>\n",
       "      <td>0</td>\n",
       "      <td>nonexistent</td>\n",
       "      <td>1.1</td>\n",
       "      <td>93.994</td>\n",
       "      <td>-36.4</td>\n",
       "      <td>4.857</td>\n",
       "      <td>5191.0</td>\n",
       "      <td>no</td>\n",
       "    </tr>\n",
       "  </tbody>\n",
       "</table>\n",
       "<p>5 rows × 21 columns</p>\n",
       "</div>"
      ],
      "text/plain": [
       "   age        job  marital    education  default housing loan    contact  \\\n",
       "0   56  housemaid  married     basic.4y       no      no   no  telephone   \n",
       "1   57   services  married  high.school  unknown      no   no  telephone   \n",
       "2   37   services  married  high.school       no     yes   no  telephone   \n",
       "3   40     admin.  married     basic.6y       no      no   no  telephone   \n",
       "4   56   services  married  high.school       no      no  yes  telephone   \n",
       "\n",
       "  month day_of_week  ...  campaign  pdays  previous     poutcome emp.var.rate  \\\n",
       "0   may         mon  ...         1    999         0  nonexistent          1.1   \n",
       "1   may         mon  ...         1    999         0  nonexistent          1.1   \n",
       "2   may         mon  ...         1    999         0  nonexistent          1.1   \n",
       "3   may         mon  ...         1    999         0  nonexistent          1.1   \n",
       "4   may         mon  ...         1    999         0  nonexistent          1.1   \n",
       "\n",
       "   cons.price.idx  cons.conf.idx  euribor3m  nr.employed   y  \n",
       "0          93.994          -36.4      4.857       5191.0  no  \n",
       "1          93.994          -36.4      4.857       5191.0  no  \n",
       "2          93.994          -36.4      4.857       5191.0  no  \n",
       "3          93.994          -36.4      4.857       5191.0  no  \n",
       "4          93.994          -36.4      4.857       5191.0  no  \n",
       "\n",
       "[5 rows x 21 columns]"
      ]
     },
     "execution_count": 6,
     "metadata": {},
     "output_type": "execute_result"
    }
   ],
   "source": [
    "data.head()\n",
    "#data.info()\n",
    "#data.columns\n",
    "#data.describe()\n",
    "#data[\"age\"]\n",
    "#data[\"job\"].unique() # Only works on series\n",
    "#data[\"job\"].value_counts() # Only works on series\n",
    "#data[data[\"job\"] == \"services\"] #fliter\n",
    "#data[\"education\"][data[\"job\"] == \"services\"] #two filter\n",
    "#data[\"education\"][data[\"job\"] == \"services\"].unique()\n",
    "#data[\"education\"][pd.isnull(data[\"job\"])]# filter with isnull\n",
    "#data[\"education\"][data[\"job\"] == \"unknown\"] = \"NA\"\n",
    "#data.loc[data[\"job\"] == \"unknown\" , \"education\"] = \"magemishe\"\n",
    "#data[\"education\"].unique()\n",
    "#data[\"age\"].plot()\n",
    "#data[\"job\"].value_counts().plot()\n",
    "#data[\"education\"].value_counts().plot()\n",
    "#data[\"education\"].value_counts().plot(kind = \"bar\")\n",
    "#data[\"education\"].value_counts().plot(kind = \"bar\", figsize = (10, 10))\n",
    "#plt.title(\"Education\")\n",
    "#plt.xlabel(\"A\")\n",
    "#plt.ylabel(\"B\")\n",
    "#plt.show()\n",
    "#data[\"education\"].value_counts().plot(kind = \"pie\", figsize = (10, 10))\n",
    "#data.groupby([\"job\",\"education\"]).size()\n",
    "#data.groupby([\"job\",\"education\"]).size().unstack()\n",
    "#data.groupby([\"job\",\"education\"]).size().unstack().plot()\n",
    "#data.groupby([\"job\",\"education\"]).size().unstack().plot(kind = \"bar\", stacked = True, figsize = (7, 7))\n",
    "#plt.show()\n",
    "#plt.savefig(\"2.png\")\n",
    "#data2 = pd.read_csv(\"../Hosein2.csv\") # 1 point means current folder and 2 point means Previous folder\n",
    "#data2 = pd.read_csv(\"../Hosein2.csv\", header = 0) # Default\n",
    "#data3 = pd.read_csv(\"../Hosein3.csv\", header = 0, sep = \";\")\n",
    "#data3 = pd.read_csv(\"../Hosein3.csv\", header = 0, sep = \";\", names = [\"A2\", \"B2\", \"C2\"])\n",
    "#data3 = pd.read_csv(\"../Hosein3.csv\", header = 0, sep = \";\", names = [\"A2\", \"B2\", \"C2\"], encoding = \"utf-8\")\n",
    "# dic1 = {\"id\" : [1, 2, 3, 4], \"age\"    : [12, 13, 17, 22]}\n",
    "# dic2 = {\"id\" : [1, 2, 3, 4], \"weight\" : [40, 55, 63, 74]}\n",
    "# dic3 = {\"id\" : [1, 2, 3, 5], \"gender\" : [\"m\", \"f\", \"m\", \"f\"]}\n",
    "# dic4 = {\"id\" : [1, 2, 3, 5], \"gender\" : [\"m\", \"f\", \"f\", \"f\"]}\n",
    "# data11 = pd.DataFrame(dic1)\n",
    "# data22 = pd.DataFrame(dic2)\n",
    "# data33 = pd.DataFrame(dic3)\n",
    "# data44 = pd.DataFrame(dic4)\n",
    "# pd.merge(data11, data22, left_on = \"id\", right_on = \"id\")\n",
    "# pd.merge(data11, data33, left_on = \"id\", right_on = \"id\") # inner join\n",
    "# pd.merge(data11, data33, how = \"left\", left_on = \"id\", right_on = \"id\")\n",
    "# pd.merge(data11, data33, how = \"right\", left_on = \"id\", right_on = \"id\")\n",
    "# pd.merge(data11, data33, how = \"outer\", left_on = \"id\", right_on = \"id\")\n",
    "# pd.merge(data33, data44, left_on = \"id\", right_on = \"id\")\n",
    "# pd.merge(data33, data44, left_on = \"id\", right_on = \"id\", suffixes = (\"_left\", \"_right\"))\n",
    "# df1 = pd.merge(data11, data33, how = \"outer\", left_on = \"id\", right_on = \"id\")\n",
    "# df1.isnull()\n",
    "# df1.isnull().sum()\n",
    "# df1.isnull().sum().sum()\n",
    "# data2 = pd.read_csv(\"Hosein.csv\")\n",
    "# data2.isnull().sum().sum()\n",
    "# data2 = pd.read_csv(\"Hosein.csv\", na_values = []) # list of non standard type data  "
   ]
  },
  {
   "cell_type": "markdown",
   "id": "b43b045b",
   "metadata": {},
   "source": [
    "# Unexpected type"
   ]
  },
  {
   "cell_type": "markdown",
   "id": "e99644e0",
   "metadata": {},
   "source": [
    "# Type1"
   ]
  },
  {
   "cell_type": "code",
   "execution_count": 25,
   "id": "06ec6166",
   "metadata": {
    "scrolled": true
   },
   "outputs": [],
   "source": [
    "# i = 0\n",
    "# for age in df[\"age\"]:\n",
    "#     try:\n",
    "#         int(\"age\")\n",
    "#     except:\n",
    "#         df.loc[i, \"age\"] = np.nan\n",
    "#         pass\n",
    "#     i += 1 "
   ]
  },
  {
   "cell_type": "markdown",
   "id": "38ae767b",
   "metadata": {},
   "source": [
    "# Type2"
   ]
  },
  {
   "cell_type": "code",
   "execution_count": 26,
   "id": "c8a699ef",
   "metadata": {},
   "outputs": [],
   "source": [
    "# df.loc[(df[\"gender\"] != \"m\") & (df[\"gender\"] != \"f\"), \"gender\"] = np.nan "
   ]
  },
  {
   "cell_type": "markdown",
   "id": "c5378399",
   "metadata": {},
   "source": [
    "# Multi-line comment"
   ]
  },
  {
   "cell_type": "markdown",
   "id": "50f8a211",
   "metadata": {},
   "source": [
    "short key ----> crtl / + "
   ]
  },
  {
   "cell_type": "markdown",
   "id": "2371c0f0",
   "metadata": {},
   "source": [
    "# Indices"
   ]
  },
  {
   "cell_type": "code",
   "execution_count": 27,
   "id": "4d4494e9",
   "metadata": {},
   "outputs": [],
   "source": [
    "# data1 = {\"Name\" : [\"hosein\", \"sajad\", \"minoo\"]  , \"gender\" : [\"m\", \"m\", \"f\"]}\n",
    "# data2 = {\"Name\" : [\"mohsen\", \"sanaz\", \"amirali\"], \"gender\" : [\"m\", \"f\", \"m\"]}\n",
    "# df1 = pd.DataFrame(data1)\n",
    "# df2 = pd.DataFrame(data2)\n",
    "# df1.index\n",
    "# list(df1.index)\n",
    "# df = df1.append(df2)\n",
    "# df = df1.append(df2, ignore_index = True)\n",
    "# df = pd.concat([df1, df2], ignore_index = True)\n",
    "# df = df.set_index('Name')\n",
    "# df\n",
    "# df = df.reset_index()\n",
    "# df"
   ]
  },
  {
   "cell_type": "markdown",
   "id": "d4dede02",
   "metadata": {},
   "source": [
    "# DataFrame & series"
   ]
  },
  {
   "cell_type": "code",
   "execution_count": 45,
   "id": "bde78e88",
   "metadata": {},
   "outputs": [],
   "source": [
    "# data1 = {\"Name\" : [\"hosein\", \"sajad\", \"minoo\", \"hasan\", \"Ali\"]  ,\n",
    "#          \"gender\" : [\"m\", \"m\", \"f\",\"m\",\"m\"]}\n",
    "# df1 = pd.DataFrame(data1)"
   ]
  },
  {
   "cell_type": "code",
   "execution_count": 46,
   "id": "8a8e4273",
   "metadata": {},
   "outputs": [],
   "source": [
    "# print(df1)\n",
    "# print(type(df1['Name'])) # series is one dim \n",
    "# print(type(df1[['Name']]))"
   ]
  },
  {
   "cell_type": "code",
   "execution_count": 47,
   "id": "c2972a91",
   "metadata": {},
   "outputs": [],
   "source": [
    "#series is one dim \n",
    "#df1['Name', 'gender'] # error\n",
    "#df1[['Name', 'gender']]"
   ]
  },
  {
   "cell_type": "code",
   "execution_count": 48,
   "id": "df7a1652",
   "metadata": {},
   "outputs": [],
   "source": [
    "# sub_df1 = df1.loc[0:2, ['Name', 'gender']]\n",
    "# print(sub_df1)"
   ]
  },
  {
   "cell_type": "code",
   "execution_count": 4,
   "id": "54a91b6e",
   "metadata": {},
   "outputs": [
    {
     "name": "stdout",
     "output_type": "stream",
     "text": [
      "0    1\n",
      "1    2\n",
      "2    3\n",
      "3    s\n",
      "dtype: object\n",
      "a    1\n",
      "b    2\n",
      "c    3\n",
      "d    s\n",
      "dtype: object\n"
     ]
    }
   ],
   "source": [
    "x = [1, 2, 3, 's']\n",
    "x_series = pd.Series(x)\n",
    "print(x_series)\n",
    "x_series = pd.Series(x, index=['a', 'b', 'c', 'd'])\n",
    "print(x_series)"
   ]
  },
  {
   "cell_type": "code",
   "execution_count": null,
   "id": "570d552d",
   "metadata": {},
   "outputs": [],
   "source": []
  }
 ],
 "metadata": {
  "kernelspec": {
   "display_name": "Python 3 (ipykernel)",
   "language": "python",
   "name": "python3"
  },
  "language_info": {
   "codemirror_mode": {
    "name": "ipython",
    "version": 3
   },
   "file_extension": ".py",
   "mimetype": "text/x-python",
   "name": "python",
   "nbconvert_exporter": "python",
   "pygments_lexer": "ipython3",
   "version": "3.10.2"
  }
 },
 "nbformat": 4,
 "nbformat_minor": 5
}
