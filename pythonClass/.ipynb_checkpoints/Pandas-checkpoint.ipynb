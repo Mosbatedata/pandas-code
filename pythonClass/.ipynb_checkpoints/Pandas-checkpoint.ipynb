{
 "cells": [
  {
   "cell_type": "code",
   "execution_count": 2,
   "id": "f14dd419",
   "metadata": {},
   "outputs": [],
   "source": [
    "\n",
    "import pandas as pd\n",
    "import matplotlib.pyplot as plt\n",
    "import numpy as np\n",
    "data2 = pd.read_csv(\"Hosein.csv\")"
   ]
  },
  {
   "cell_type": "code",
   "execution_count": 24,
   "id": "03cd74a3",
   "metadata": {},
   "outputs": [],
   "source": [
    "#data.head()\n",
    "#data.info()\n",
    "#data.columns\n",
    "#data.describe()\n",
    "#data[\"age\"]\n",
    "#data[\"job\"].unique() # Only works on series\n",
    "#data[\"job\"].value_counts() # Only works on series\n",
    "#data[data[\"job\"] == \"services\"] #fliter\n",
    "#data[\"education\"][data[\"job\"] == \"services\"] #two filter\n",
    "#data[\"education\"][data[\"job\"] == \"services\"].unique()\n",
    "#data[\"education\"][pd.isnull(data[\"job\"])]# filter with isnull\n",
    "#data[\"education\"][data[\"job\"] == \"unknown\"] = \"NA\"\n",
    "#data.loc[data[\"job\"] == \"unknown\" , \"education\"] = \"magemishe\"\n",
    "#data[\"education\"].unique()\n",
    "#data[\"age\"].plot()\n",
    "#data[\"job\"].value_counts().plot()\n",
    "#data[\"education\"].value_counts().plot()\n",
    "#data[\"education\"].value_counts().plot(kind = \"bar\")\n",
    "#data[\"education\"].value_counts().plot(kind = \"bar\", figsize = (10, 10))\n",
    "#plt.title(\"Education\")\n",
    "#plt.xlabel(\"A\")\n",
    "#plt.ylabel(\"B\")\n",
    "#plt.show()\n",
    "#data[\"education\"].value_counts().plot(kind = \"pie\", figsize = (10, 10))\n",
    "#data.groupby([\"job\",\"education\"]).size()\n",
    "#data.groupby([\"job\",\"education\"]).size().unstack()\n",
    "#data.groupby([\"job\",\"education\"]).size().unstack().plot()\n",
    "#data.groupby([\"job\",\"education\"]).size().unstack().plot(kind = \"bar\", stacked = True, figsize = (7, 7))\n",
    "#plt.show()\n",
    "#plt.savefig(\"2.png\")\n",
    "#data2 = pd.read_csv(\"../Hosein2.csv\") # 1 point means current folder and 2 point means Previous folder\n",
    "#data2 = pd.read_csv(\"../Hosein2.csv\", header = 0) # Default\n",
    "#data3 = pd.read_csv(\"../Hosein3.csv\", header = 0, sep = \";\")\n",
    "#data3 = pd.read_csv(\"../Hosein3.csv\", header = 0, sep = \";\", names = [\"A2\", \"B2\", \"C2\"])\n",
    "#data3 = pd.read_csv(\"../Hosein3.csv\", header = 0, sep = \";\", names = [\"A2\", \"B2\", \"C2\"], encoding = \"utf-8\")\n",
    "# dic1 = {\"id\" : [1, 2, 3, 4], \"age\"    : [12, 13, 17, 22]}\n",
    "# dic2 = {\"id\" : [1, 2, 3, 4], \"weight\" : [40, 55, 63, 74]}\n",
    "# dic3 = {\"id\" : [1, 2, 3, 5], \"gender\" : [\"m\", \"f\", \"m\", \"f\"]}\n",
    "# dic4 = {\"id\" : [1, 2, 3, 5], \"gender\" : [\"m\", \"f\", \"f\", \"f\"]}\n",
    "# data11 = pd.DataFrame(dic1)\n",
    "# data22 = pd.DataFrame(dic2)\n",
    "# data33 = pd.DataFrame(dic3)\n",
    "# data44 = pd.DataFrame(dic4)\n",
    "# pd.merge(data11, data22, left_on = \"id\", right_on = \"id\")\n",
    "# pd.merge(data11, data33, left_on = \"id\", right_on = \"id\") # inner join\n",
    "# pd.merge(data11, data33, how = \"left\", left_on = \"id\", right_on = \"id\")\n",
    "# pd.merge(data11, data33, how = \"right\", left_on = \"id\", right_on = \"id\")\n",
    "# pd.merge(data11, data33, how = \"outer\", left_on = \"id\", right_on = \"id\")\n",
    "# pd.merge(data33, data44, left_on = \"id\", right_on = \"id\")\n",
    "# pd.merge(data33, data44, left_on = \"id\", right_on = \"id\", suffixes = (\"_left\", \"_right\"))\n",
    "# df1 = pd.merge(data11, data33, how = \"outer\", left_on = \"id\", right_on = \"id\")\n",
    "# df1.isnull()\n",
    "# df1.isnull().sum()\n",
    "# df1.isnull().sum().sum()\n",
    "# data2 = pd.read_csv(\"Hosein.csv\")\n",
    "# data2.isnull().sum().sum()\n",
    "# data2 = pd.read_csv(\"Hosein.csv\", na_values = []) # list of non standard type data  "
   ]
  },
  {
   "cell_type": "markdown",
   "id": "b43b045b",
   "metadata": {},
   "source": [
    "# Unexpected type"
   ]
  },
  {
   "cell_type": "markdown",
   "id": "e99644e0",
   "metadata": {},
   "source": [
    "# Type1"
   ]
  },
  {
   "cell_type": "code",
   "execution_count": 25,
   "id": "06ec6166",
   "metadata": {
    "scrolled": true
   },
   "outputs": [],
   "source": [
    "# i = 0\n",
    "# for age in df[\"age\"]:\n",
    "#     try:\n",
    "#         int(\"age\")\n",
    "#     except:\n",
    "#         df.loc[i, \"age\"] = np.nan\n",
    "#         pass\n",
    "#     i += 1 "
   ]
  },
  {
   "cell_type": "markdown",
   "id": "38ae767b",
   "metadata": {},
   "source": [
    "# Type2"
   ]
  },
  {
   "cell_type": "code",
   "execution_count": 26,
   "id": "c8a699ef",
   "metadata": {},
   "outputs": [],
   "source": [
    "# df.loc[(df[\"gender\"] != \"m\") & (df[\"gender\"] != \"f\"), \"gender\"] = np.nan "
   ]
  },
  {
   "cell_type": "markdown",
   "id": "c5378399",
   "metadata": {},
   "source": [
    "# Multi-line comment"
   ]
  },
  {
   "cell_type": "markdown",
   "id": "50f8a211",
   "metadata": {},
   "source": [
    "short key ----> crtl / + "
   ]
  },
  {
   "cell_type": "markdown",
   "id": "2371c0f0",
   "metadata": {},
   "source": [
    "# Indices"
   ]
  },
  {
   "cell_type": "code",
   "execution_count": 27,
   "id": "4d4494e9",
   "metadata": {},
   "outputs": [],
   "source": [
    "# data1 = {\"Name\" : [\"hosein\", \"sajad\", \"minoo\"]  , \"gender\" : [\"m\", \"m\", \"f\"]}\n",
    "# data2 = {\"Name\" : [\"mohsen\", \"sanaz\", \"amirali\"], \"gender\" : [\"m\", \"f\", \"m\"]}\n",
    "# df1 = pd.DataFrame(data1)\n",
    "# df2 = pd.DataFrame(data2)\n",
    "# df1.index\n",
    "# list(df1.index)\n",
    "# df = df1.append(df2)\n",
    "# df = df1.append(df2, ignore_index = True)\n",
    "# df = pd.concat([df1, df2], ignore_index = True)\n",
    "# df = df.set_index('Name')\n",
    "# df\n",
    "# df = df.reset_index()\n",
    "# df"
   ]
  },
  {
   "cell_type": "markdown",
   "id": "86c118a5",
   "metadata": {},
   "source": [
    "# DataFrame & series"
   ]
  },
  {
   "cell_type": "code",
   "execution_count": 35,
   "id": "b32e5f10",
   "metadata": {},
   "outputs": [],
   "source": [
    "data1 = {\"Name\" : [\"hosein\", \"sajad\", \"minoo\", \"hasan\", \"Ali\"]  ,\n",
    "         \"gender\" : [\"m\", \"m\", \"f\",\"m\",\"m\"]}\n",
    "df1 = pd.DataFrame(data1)"
   ]
  },
  {
   "cell_type": "code",
   "execution_count": 36,
   "id": "3a985b1d",
   "metadata": {},
   "outputs": [
    {
     "name": "stdout",
     "output_type": "stream",
     "text": [
      "     Name gender\n",
      "0  hosein      m\n",
      "1   sajad      m\n",
      "2   minoo      f\n",
      "3   hasan      m\n",
      "4     Ali      m\n",
      "<class 'pandas.core.series.Series'>\n",
      "<class 'pandas.core.frame.DataFrame'>\n"
     ]
    }
   ],
   "source": [
    "print(df1)\n",
    "print(type(df1['Name'])) # series is one dim \n",
    "print(type(df1[['Name']]))"
   ]
  },
  {
   "cell_type": "code",
   "execution_count": 37,
   "id": "6824b986",
   "metadata": {},
   "outputs": [
    {
     "data": {
      "text/html": [
       "<div>\n",
       "<style scoped>\n",
       "    .dataframe tbody tr th:only-of-type {\n",
       "        vertical-align: middle;\n",
       "    }\n",
       "\n",
       "    .dataframe tbody tr th {\n",
       "        vertical-align: top;\n",
       "    }\n",
       "\n",
       "    .dataframe thead th {\n",
       "        text-align: right;\n",
       "    }\n",
       "</style>\n",
       "<table border=\"1\" class=\"dataframe\">\n",
       "  <thead>\n",
       "    <tr style=\"text-align: right;\">\n",
       "      <th></th>\n",
       "      <th>Name</th>\n",
       "      <th>gender</th>\n",
       "    </tr>\n",
       "  </thead>\n",
       "  <tbody>\n",
       "    <tr>\n",
       "      <th>0</th>\n",
       "      <td>hosein</td>\n",
       "      <td>m</td>\n",
       "    </tr>\n",
       "    <tr>\n",
       "      <th>1</th>\n",
       "      <td>sajad</td>\n",
       "      <td>m</td>\n",
       "    </tr>\n",
       "    <tr>\n",
       "      <th>2</th>\n",
       "      <td>minoo</td>\n",
       "      <td>f</td>\n",
       "    </tr>\n",
       "    <tr>\n",
       "      <th>3</th>\n",
       "      <td>hasan</td>\n",
       "      <td>m</td>\n",
       "    </tr>\n",
       "    <tr>\n",
       "      <th>4</th>\n",
       "      <td>Ali</td>\n",
       "      <td>m</td>\n",
       "    </tr>\n",
       "  </tbody>\n",
       "</table>\n",
       "</div>"
      ],
      "text/plain": [
       "     Name gender\n",
       "0  hosein      m\n",
       "1   sajad      m\n",
       "2   minoo      f\n",
       "3   hasan      m\n",
       "4     Ali      m"
      ]
     },
     "execution_count": 37,
     "metadata": {},
     "output_type": "execute_result"
    }
   ],
   "source": [
    "#series is one dim \n",
    "#df1['Name', 'gender'] # error\n",
    "df1[['Name', 'gender']]"
   ]
  },
  {
   "cell_type": "code",
   "execution_count": 41,
   "id": "910b1200",
   "metadata": {},
   "outputs": [
    {
     "name": "stdout",
     "output_type": "stream",
     "text": [
      "     Name gender\n",
      "0  hosein      m\n",
      "1   sajad      m\n",
      "2   minoo      f\n",
      "3   hasan      m\n"
     ]
    }
   ],
   "source": [
    "sub_df1 = df1.loc[0:3, ['Name', 'gender']]\n",
    "print(sub_df1)"
   ]
  },
  {
   "cell_type": "code",
   "execution_count": null,
   "id": "bcc003fb",
   "metadata": {},
   "outputs": [],
   "source": []
  },
  {
   "cell_type": "code",
   "execution_count": null,
   "id": "032ae67d",
   "metadata": {},
   "outputs": [],
   "source": []
  }
 ],
 "metadata": {
  "kernelspec": {
   "display_name": "Python 3 (ipykernel)",
   "language": "python",
   "name": "python3"
  },
  "language_info": {
   "codemirror_mode": {
    "name": "ipython",
    "version": 3
   },
   "file_extension": ".py",
   "mimetype": "text/x-python",
   "name": "python",
   "nbconvert_exporter": "python",
   "pygments_lexer": "ipython3",
   "version": "3.10.1"
  }
 },
 "nbformat": 4,
 "nbformat_minor": 5
}
