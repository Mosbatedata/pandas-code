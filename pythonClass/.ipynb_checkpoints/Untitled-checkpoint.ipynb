{
 "cells": [
  {
   "cell_type": "code",
   "execution_count": 45,
   "id": "6edb6159",
   "metadata": {},
   "outputs": [],
   "source": [
    "import pandas as pd\n",
    "import numpy as np\n",
    "from scipy import stats\n",
    "bank_data = pd.read_csv(\"bank.csv\")\n",
    "#bank_data.info()\n",
    "#bank_data.columns\n",
    "#bank_data.describe()"
   ]
  },
  {
   "cell_type": "code",
   "execution_count": 32,
   "id": "a5ff2c49",
   "metadata": {},
   "outputs": [],
   "source": [
    "#bank_data.shape\n",
    "#bank_data.head()"
   ]
  },
  {
   "cell_type": "code",
   "execution_count": 33,
   "id": "6a2c181d",
   "metadata": {},
   "outputs": [],
   "source": [
    "bank_data['index'] = pd.Series(range(0,41188))  "
   ]
  },
  {
   "cell_type": "code",
   "execution_count": 34,
   "id": "70043bdb",
   "metadata": {},
   "outputs": [],
   "source": [
    "bank_data[\"pdays\"] =bank_data[\"pdays\"].replace({999: np.NaN}) "
   ]
  },
  {
   "cell_type": "code",
   "execution_count": 35,
   "id": "20124b4d",
   "metadata": {},
   "outputs": [],
   "source": [
    "#bank_data.head()"
   ]
  },
  {
   "cell_type": "code",
   "execution_count": 78,
   "id": "2f5de4cc",
   "metadata": {},
   "outputs": [],
   "source": [
    "#bank_data[\"pdays\"].plot(kind = \"hist\", title = \"Histogram of Days Since Previous\")  "
   ]
  },
  {
   "cell_type": "code",
   "execution_count": 37,
   "id": "78fcbbc5",
   "metadata": {},
   "outputs": [],
   "source": [
    "bank_data[\"education_numeric\"] = bank_data[\"education\"]"
   ]
  },
  {
   "cell_type": "code",
   "execution_count": 39,
   "id": "a5fd342b",
   "metadata": {},
   "outputs": [],
   "source": [
    "#bank_data.head()"
   ]
  },
  {
   "cell_type": "code",
   "execution_count": 40,
   "id": "b7997ec7",
   "metadata": {},
   "outputs": [],
   "source": [
    "dict_edu = {\"education_numeric\": {\"illiterate\": 0, \"basic.4y\": 4, \"basic.6y\": 6, \"basic.9y\": 9,\n",
    "                                  \"high.school\":12 ,\"professional. course\": 12 ,\n",
    "                                  \"university.degree\":16, \"unknown\": np.NaN}}\n"
   ]
  },
  {
   "cell_type": "code",
   "execution_count": 41,
   "id": "34c0d2f7",
   "metadata": {},
   "outputs": [],
   "source": [
    "bank_data.replace(dict_edu, inplace=True)"
   ]
  },
  {
   "cell_type": "code",
   "execution_count": 43,
   "id": "9d3a53d7",
   "metadata": {},
   "outputs": [],
   "source": [
    "#bank_data.head()"
   ]
  },
  {
   "cell_type": "code",
   "execution_count": 47,
   "id": "6ffe2304",
   "metadata": {},
   "outputs": [],
   "source": [
    "bank_data[\"age_z\"] = stats.zscore(bank_data[\"age\"])"
   ]
  },
  {
   "cell_type": "code",
   "execution_count": 49,
   "id": "f3cc0f67",
   "metadata": {},
   "outputs": [],
   "source": [
    "#bank_data.head()"
   ]
  },
  {
   "cell_type": "code",
   "execution_count": 77,
   "id": "173ebee9",
   "metadata": {},
   "outputs": [],
   "source": [
    "#bank_data.query(\"age_z > 3 | age_z < -3\" )"
   ]
  },
  {
   "cell_type": "code",
   "execution_count": 70,
   "id": "0b48cec4",
   "metadata": {},
   "outputs": [],
   "source": [
    "bank_data_outliers = bank_data.query(\"age_z > 3 | age_z < -3\" )"
   ]
  },
  {
   "cell_type": "code",
   "execution_count": 71,
   "id": "9492fa47",
   "metadata": {},
   "outputs": [],
   "source": [
    "bank_data_outliers_sort = bank_data_outliers.sort_values([\"age_z\"], ascending = False)"
   ]
  },
  {
   "cell_type": "code",
   "execution_count": 79,
   "id": "c9162340",
   "metadata": {},
   "outputs": [],
   "source": [
    "#bank_data_outliers_sort.head(15)"
   ]
  },
  {
   "cell_type": "code",
   "execution_count": 80,
   "id": "84a73dea",
   "metadata": {},
   "outputs": [],
   "source": [
    "#bank_data_outliers_sort[[\"age\", \"marital\"]].head()"
   ]
  },
  {
   "cell_type": "code",
   "execution_count": null,
   "id": "f709bd3c",
   "metadata": {},
   "outputs": [],
   "source": []
  }
 ],
 "metadata": {
  "kernelspec": {
   "display_name": "Python 3 (ipykernel)",
   "language": "python",
   "name": "python3"
  },
  "language_info": {
   "codemirror_mode": {
    "name": "ipython",
    "version": 3
   },
   "file_extension": ".py",
   "mimetype": "text/x-python",
   "name": "python",
   "nbconvert_exporter": "python",
   "pygments_lexer": "ipython3",
   "version": "3.10.2"
  }
 },
 "nbformat": 4,
 "nbformat_minor": 5
}
